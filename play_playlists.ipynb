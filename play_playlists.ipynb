{
 "cells": [
  {
   "cell_type": "code",
   "execution_count": 7,
   "metadata": {},
   "outputs": [],
   "source": [
    "import json\n",
    "from pathlib import Path\n",
    "\n",
    "from IPython.display import Audio, display"
   ]
  },
  {
   "cell_type": "code",
   "execution_count": null,
   "metadata": {},
   "outputs": [],
   "source": [
    "PLAYLISTS_PATH = \"playlists_v1.json\"\n",
    "AUDIO_DIR = \"data/audio\"\n",
    "\n",
    "audio_dir = Path(AUDIO_DIR)\n",
    "\n",
    "with open(PLAYLISTS_PATH, \"r\") as f:\n",
    "    playlists = json.load(f)[\"playlists\"]\n",
    "\n",
    "# Print how many songs each cluster has\n",
    "for playlist in playlists:\n",
    "    playlist_id = playlist[\"id\"]\n",
    "    num_songs = len(playlist[\"songs\"])\n",
    "    print(f\"Playlist ID {playlist_id} has {num_songs} songs.\")"
   ]
  },
  {
   "cell_type": "code",
   "execution_count": null,
   "metadata": {},
   "outputs": [],
   "source": [
    "TARGET_PLAYLIST_ID = 1  # Change this to the playlist ID you want to display\n",
    "\n",
    "# Find the playlist with that ID\n",
    "target_playlist = next((pl for pl in playlists if pl[\"id\"] == TARGET_PLAYLIST_ID), None)\n",
    "\n",
    "if target_playlist:\n",
    "    print(f\"\\n=== Playlist ID: {target_playlist['id']} ===\")\n",
    "\n",
    "    for song_filename in target_playlist[\"songs\"]:\n",
    "        audio_path = audio_dir / song_filename\n",
    "        print(f\"▶ {song_filename}\")\n",
    "\n",
    "        if audio_path.exists():\n",
    "            display(Audio(filename=audio_path))\n",
    "        else:\n",
    "            print(f\"[Missing file: {audio_path}]\")\n",
    "else:\n",
    "    print(f\"No playlist found with ID: {TARGET_PLAYLIST_ID}\")"
   ]
  },
  {
   "cell_type": "code",
   "execution_count": null,
   "metadata": {},
   "outputs": [],
   "source": []
  }
 ],
 "metadata": {
  "kernelspec": {
   "display_name": "new",
   "language": "python",
   "name": "python3"
  },
  "language_info": {
   "codemirror_mode": {
    "name": "ipython",
    "version": 3
   },
   "file_extension": ".py",
   "mimetype": "text/x-python",
   "name": "python",
   "nbconvert_exporter": "python",
   "pygments_lexer": "ipython3",
   "version": "3.10.16"
  }
 },
 "nbformat": 4,
 "nbformat_minor": 2
}
